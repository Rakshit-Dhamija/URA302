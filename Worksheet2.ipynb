{
 "cells": [
  {
   "cell_type": "code",
   "execution_count": 50,
   "metadata": {},
   "outputs": [
    {
     "name": "stdout",
     "output_type": "stream",
     "text": [
      "Orignal LIstt: [11, 12, 13, 14]\n",
      "List after Added elemts: [11, 12, 13, 14, 50, 60]\n",
      "List after Removed elemts: [12, 14, 50, 60]\n",
      "List after ascending elemets: None\n",
      "List after descending elemets: None\n",
      "List elemets: 4\n",
      "SUM: 136\n",
      "SUM: 0\n",
      "60 is not a prime number.\n",
      "50 is not a prime number.\n",
      "14 is not a prime number.\n",
      "12 is not a prime number.\n",
      "Empty list: []\n"
     ]
    }
   ],
   "source": [
    "# question 1\n",
    "l=[11,12,13,14]\n",
    "print(\"Orignal LIstt:\",l)\n",
    "l.append(50)\n",
    "l.append(60)\n",
    "print('List after Added elemts:',l)\n",
    "l.remove(11)\n",
    "l.remove(13)\n",
    "print('List after Removed elemts:',l)\n",
    "print('List after ascending elemets:',l.sort())\n",
    "print('List after descending elemets:',l.sort(reverse=True))\n",
    "n=0\n",
    "for i in(l):\n",
    "    n=n+1\n",
    "print('List elemets:',n)\n",
    "sum=0\n",
    "for i in range(n):\n",
    "    if l[i]%2==0:\n",
    "        sum=sum+l[i]\n",
    "    else:continue\n",
    "print(\"SUM:\",sum)\n",
    "sum=0\n",
    "\n",
    "for i in range(n):\n",
    "    if l[i]%2!=0:\n",
    "        sum=sum+l[i]\n",
    "    else:continue\n",
    "print(\"SUM:\",sum)\n",
    "\n",
    "\n",
    "\n",
    "for i in range (n):\n",
    "    is_prime = True\n",
    "    if l[i] > 1:\n",
    "        for j in range(2, l[i]):\n",
    "            if l[i] % j == 0:\n",
    "                is_prime = False\n",
    "                break\n",
    "    else:\n",
    "        is_prime = False\n",
    "\n",
    "    print(f\"{l[i]} is a prime number.\" if is_prime else f\"{l[i]} is not a prime number.\")\n",
    "\n",
    "l.clear()\n",
    "print(\"Empty list:\",l)\n",
    "del(l)"
   ]
  },
  {
   "cell_type": "code",
   "execution_count": 51,
   "metadata": {},
   "outputs": [
    {
     "name": "stdout",
     "output_type": "stream",
     "text": [
      "Orignal LIstt: [11, 12, 13, 14]\n",
      "SUM: 50\n"
     ]
    }
   ],
   "source": [
    "# qustion 2\n",
    "l=[11,12,13,14]\n",
    "print(\"Orignal LIstt:\",l)\n",
    "sum=0\n",
    "for i in range(n):\n",
    "        sum=sum+l[i]\n",
    "print(\"SUM:\",sum)\n"
   ]
  },
  {
   "cell_type": "code",
   "execution_count": 52,
   "metadata": {},
   "outputs": [
    {
     "name": "stdout",
     "output_type": "stream",
     "text": [
      "Orignal LIstt: [11, 12, 13, 14]\n",
      "PRODUCT: 24024\n"
     ]
    }
   ],
   "source": [
    "# qustion 3\n",
    "l=[11,12,13,14]\n",
    "print(\"Orignal LIstt:\",l)\n",
    "prod=1\n",
    "for i in range(n):\n",
    "        prod=prod*l[i]\n",
    "print(\"PRODUCT:\",prod)\n"
   ]
  },
  {
   "cell_type": "code",
   "execution_count": null,
   "metadata": {},
   "outputs": [],
   "source": [
    "#question 4"
   ]
  },
  {
   "cell_type": "code",
   "execution_count": 88,
   "metadata": {},
   "outputs": [
    {
     "name": "stdout",
     "output_type": "stream",
     "text": [
      "Orignal Dictionary: {1: 5.6, 2: 7.8, 3: 6.6, 4: 8.7, 5: 7.7}\n",
      "Updated Dictionary: {1: 5.6, 2: 7.8, 3: 6.6, 4: 8.7, 5: 7.7, 8: 8.8}\n",
      "Updated Dictionary: {1: 5.6, 3: 6.6, 4: 8.7, 5: 7.7, 8: 8.8}\n",
      "If 6 is there in Dictionary: False\n",
      "Length of Dictionary: 5\n",
      "Sum of values of Dictionary: 37.4\n",
      "Updated Dictionary: {1: 5.6, 3: 7.1, 4: 8.7, 5: 7.7, 8: 8.8}\n",
      "Updated Dictionary: None\n"
     ]
    }
   ],
   "source": [
    "#question 5\n",
    "d= {1:5.6, 2:7.8, 3:6.6, 4:8.7, 5:7.7}\n",
    "print(\"Orignal Dictionary:\",d)\n",
    "d[8]=8.8\n",
    "print(\"Updated Dictionary:\",d)\n",
    "d.pop(2)\n",
    "print(\"Updated Dictionary:\",d)\n",
    "print(\"If 6 is there in Dictionary:\",'6' in d)\n",
    "n=len(list(d.keys()))\n",
    "print(\"Length of Dictionary:\",n)\n",
    "v=list(d.values())\n",
    "sum=0\n",
    "for i in range(n):\n",
    "        sum=sum+v[i]\n",
    "print(\"Sum of values of Dictionary:\",sum)\n",
    "d[3]=7.1\n",
    "print(\"Updated Dictionary:\",d)\n",
    "print(\"Updated Dictionary:\",d.clear())"
   ]
  },
  {
   "cell_type": "code",
   "execution_count": null,
   "metadata": {},
   "outputs": [],
   "source": []
  }
 ],
 "metadata": {
  "kernelspec": {
   "display_name": "Python 3",
   "language": "python",
   "name": "python3"
  },
  "language_info": {
   "codemirror_mode": {
    "name": "ipython",
    "version": 3
   },
   "file_extension": ".py",
   "mimetype": "text/x-python",
   "name": "python",
   "nbconvert_exporter": "python",
   "pygments_lexer": "ipython3",
   "version": "3.11.9"
  }
 },
 "nbformat": 4,
 "nbformat_minor": 2
}
