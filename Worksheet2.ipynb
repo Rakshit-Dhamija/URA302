{
 "cells": [
  {
   "cell_type": "code",
   "execution_count": 50,
   "metadata": {},
   "outputs": [
    {
     "name": "stdout",
     "output_type": "stream",
     "text": [
      "Orignal LIstt: [11, 12, 13, 14]\n",
      "List after Added elemts: [11, 12, 13, 14, 50, 60]\n",
      "List after Removed elemts: [12, 14, 50, 60]\n",
      "List after ascending elemets: None\n",
      "List after descending elemets: None\n",
      "List elemets: 4\n",
      "SUM: 136\n",
      "SUM: 0\n",
      "60 is not a prime number.\n",
      "50 is not a prime number.\n",
      "14 is not a prime number.\n",
      "12 is not a prime number.\n",
      "Empty list: []\n"
     ]
    }
   ],
   "source": [
    "# question 1\n",
    "l=[11,12,13,14]\n",
    "print(\"Orignal LIstt:\",l)\n",
    "l.append(50)\n",
    "l.append(60)\n",
    "print('List after Added elemts:',l)\n",
    "l.remove(11)\n",
    "l.remove(13)\n",
    "print('List after Removed elemts:',l)\n",
    "print('List after ascending elemets:',l.sort())\n",
    "print('List after descending elemets:',l.sort(reverse=True))\n",
    "n=0\n",
    "for i in(l):\n",
    "    n=n+1\n",
    "print('List elemets:',n)\n",
    "sum=0\n",
    "for i in range(n):\n",
    "    if l[i]%2==0:\n",
    "        sum=sum+l[i]\n",
    "    else:continue\n",
    "print(\"SUM:\",sum)\n",
    "sum=0\n",
    "\n",
    "for i in range(n):\n",
    "    if l[i]%2!=0:\n",
    "        sum=sum+l[i]\n",
    "    else:continue\n",
    "print(\"SUM:\",sum)\n",
    "\n",
    "\n",
    "\n",
    "for i in range (n):\n",
    "    is_prime = True\n",
    "    if l[i] > 1:\n",
    "        for j in range(2, l[i]):\n",
    "            if l[i] % j == 0:\n",
    "                is_prime = False\n",
    "                break\n",
    "    else:\n",
    "        is_prime = False\n",
    "\n",
    "    print(f\"{l[i]} is a prime number.\" if is_prime else f\"{l[i]} is not a prime number.\")\n",
    "\n",
    "l.clear()\n",
    "print(\"Empty list:\",l)\n",
    "del(l)"
   ]
  },
  {
   "cell_type": "code",
   "execution_count": 51,
   "metadata": {},
   "outputs": [
    {
     "name": "stdout",
     "output_type": "stream",
     "text": [
      "Orignal LIstt: [11, 12, 13, 14]\n",
      "SUM: 50\n"
     ]
    }
   ],
   "source": [
    "# qustion 2\n",
    "l=[11,12,13,14]\n",
    "print(\"Orignal LIstt:\",l)\n",
    "sum=0\n",
    "for i in range(n):\n",
    "        sum=sum+l[i]\n",
    "print(\"SUM:\",sum)\n"
   ]
  },
  {
   "cell_type": "code",
   "execution_count": 52,
   "metadata": {},
   "outputs": [
    {
     "name": "stdout",
     "output_type": "stream",
     "text": [
      "Orignal LIstt: [11, 12, 13, 14]\n",
      "PRODUCT: 24024\n"
     ]
    }
   ],
   "source": [
    "# qustion 3\n",
    "l=[11,12,13,14]\n",
    "print(\"Orignal LIstt:\",l)\n",
    "prod=1\n",
    "for i in range(n):\n",
    "        prod=prod*l[i]\n",
    "print(\"PRODUCT:\",prod)\n"
   ]
  },
  {
   "cell_type": "code",
   "execution_count": null,
   "metadata": {},
   "outputs": [],
   "source": [
    "#question 4"
   ]
  },
  {
   "cell_type": "code",
   "execution_count": 88,
   "metadata": {},
   "outputs": [
    {
     "name": "stdout",
     "output_type": "stream",
     "text": [
      "Orignal Dictionary: {1: 5.6, 2: 7.8, 3: 6.6, 4: 8.7, 5: 7.7}\n",
      "Updated Dictionary: {1: 5.6, 2: 7.8, 3: 6.6, 4: 8.7, 5: 7.7, 8: 8.8}\n",
      "Updated Dictionary: {1: 5.6, 3: 6.6, 4: 8.7, 5: 7.7, 8: 8.8}\n",
      "If 6 is there in Dictionary: False\n",
      "Length of Dictionary: 5\n",
      "Sum of values of Dictionary: 37.4\n",
      "Updated Dictionary: {1: 5.6, 3: 7.1, 4: 8.7, 5: 7.7, 8: 8.8}\n",
      "Updated Dictionary: None\n"
     ]
    }
   ],
   "source": [
    "#question 5\n",
    "d= {1:5.6, 2:7.8, 3:6.6, 4:8.7, 5:7.7}\n",
    "print(\"Orignal Dictionary:\",d)\n",
    "d[8]=8.8\n",
    "print(\"Updated Dictionary:\",d)\n",
    "d.pop(2)\n",
    "print(\"Updated Dictionary:\",d)\n",
    "print(\"If 6 is there in Dictionary:\",'6' in d)\n",
    "n=len(list(d.keys()))\n",
    "print(\"Length of Dictionary:\",n)\n",
    "v=list(d.values())\n",
    "sum=0\n",
    "for i in range(n):\n",
    "        sum=sum+v[i]\n",
    "print(\"Sum of values of Dictionary:\",sum)\n",
    "d[3]=7.1\n",
    "print(\"Updated Dictionary:\",d)\n",
    "print(\"Updated Dictionary:\",d.clear())"
   ]
  },
  {
   "cell_type": "code",
   "execution_count": 92,
   "metadata": {},
   "outputs": [
    {
     "name": "stdout",
     "output_type": "stream",
     "text": [
      "Orignal Set: {50, 20, 40, 10, 60, 30}\n",
      "Updated Set: {50, 66, 20, 55, 40, 10, 60, 30}\n",
      "Updated Set: {50, 66, 20, 55, 40, 60}\n",
      "40 in Set\n",
      "Updated Set: {66, 70, 40, 80, 50, 20, 55, 90, 60}\n",
      "Updated Set: {40, 50, 60}\n",
      "Updated Set: {66, 20, 55}\n"
     ]
    }
   ],
   "source": [
    "#question 6\n",
    "s1={10,20,30,40,50,60}\n",
    "s2={40,50,60,70,80,90}\n",
    "print(\"Orignal Set:\",s1)\n",
    "s1.add(55)\n",
    "s1.add(66)\n",
    "print(\"Updated Set:\",s1)\n",
    "s1.remove(10)\n",
    "s1.remove(30)\n",
    "print(\"Updated Set:\",s1)\n",
    "if 40 in s1:\n",
    "    print(\"40 in Set\")\n",
    "else:\n",
    "    print(\"40 not in set\")\n",
    "print(\"Updated Set:\",s1.union(s2))\n",
    "print(\"Updated Set:\",s1.intersection(s2))\n",
    "print(\"Updated Set:\",s1-s2)"
   ]
  },
  {
   "cell_type": "code",
   "execution_count": 107,
   "metadata": {},
   "outputs": [
    {
     "name": "stdout",
     "output_type": "stream",
     "text": [
      "OLKTTPDD\n",
      "QOLZWEI\n",
      "NEVJAJW\n",
      "MGUNTNWM\n",
      "TFMKAU\n",
      "GLYENGSC\n",
      "QYBMKGZ\n",
      "FQTOVX\n",
      "QZSNEK\n",
      "RQCRJMHE\n",
      "MNPJECTE\n",
      "GDUFIA\n",
      "TAXBBT\n",
      "QSTGOYRR\n",
      "XJLJXA\n",
      "POEIEUH\n",
      "ZCFPEZDJ\n",
      "EDVIMSB\n",
      "JYQZUR\n",
      "ZPUOAJ\n",
      "SDMUCKJJ\n",
      "JLTHPZ\n",
      "BXGBGPY\n",
      "HUAAYBB\n",
      "NODFFF\n",
      "WZYQDJHP\n",
      "YGDSNYA\n",
      "BIIUBUZV\n",
      "IBVXKXBE\n",
      "YCNWHZLK\n",
      "KIJACUY\n",
      "JTXRKP\n",
      "BZJTNMYB\n",
      "DEIPJVA\n",
      "TBHRNRLJ\n",
      "BOIJABC\n",
      "IRUUCV\n",
      "SDWBOI\n",
      "DPXTQP\n",
      "MQQWGP\n",
      "XOATFR\n",
      "ZWRLCN\n",
      "TJGMCJ\n",
      "CKRZDAW\n",
      "HZVPZS\n",
      "IKCHAF\n",
      "DSCVWA\n",
      "XPXQJRIL\n",
      "ABUSWDG\n",
      "UETUEI\n",
      "CUKGYPJR\n",
      "EALBSL\n",
      "BJTJGSNS\n",
      "JTKHSVA\n",
      "BOPERAV\n",
      "JDPYBL\n",
      "KJVJNG\n",
      "CZIXGKVG\n",
      "SUTGCWEP\n",
      "LJYEWX\n",
      "NBKBBLEE\n",
      "JIPMPEE\n",
      "FUNMSOD\n",
      "WPZBAMKL\n",
      "SFNKKYZ\n",
      "GSXCWW\n",
      "LPHWCB\n",
      "GTUXPTE\n",
      "STWXYF\n",
      "OEBFEIF\n",
      "UUCHOLF\n",
      "WTZLQVOO\n",
      "RLLSHP\n",
      "JHJFKSB\n",
      "GHDNTUV\n",
      "BWVSRPQP\n",
      "JIUALWT\n",
      "CQOQDKTP\n",
      "DUDLPWB\n",
      "WEBCVM\n",
      "XTDFKDA\n",
      "YLAKWGPS\n",
      "IDNVHGL\n",
      "LAESOAOM\n",
      "ZCUHOKJT\n",
      "AICNZPJ\n",
      "IQIBPKXJ\n",
      "GMWJUADH\n",
      "JTOCYYRR\n",
      "RDNBVQB\n",
      "QZLFNWIP\n",
      "JVGDQR\n",
      "FCROEZBK\n",
      "OYWBKQLZ\n",
      "FREMAXJ\n",
      "SENPTMCR\n",
      "DAQPJLKU\n",
      "QGFBEGK\n",
      "AHHJXUUO\n",
      "JBTDWPLQ\n"
     ]
    }
   ],
   "source": [
    "#question 7\n",
    "# (i)\n",
    "import random\n",
    "for _ in range(100):\n",
    "    length = random.randint(6, 8)  # Length between 6 and 8\n",
    "    random_string = ''\n",
    "    for _ in range(length):\n",
    "        char = chr(random.randint(65, 90))  # Generate a random uppercase letter (A-Z)\n",
    "        random_string += char\n",
    "    print(random_string)\n"
   ]
  },
  {
   "cell_type": "code",
   "execution_count": 108,
   "metadata": {},
   "outputs": [
    {
     "name": "stdout",
     "output_type": "stream",
     "text": [
      "Prime: 601\n",
      "Prime: 607\n",
      "Prime: 613\n",
      "Prime: 617\n",
      "Prime: 619\n",
      "Prime: 631\n",
      "Prime: 641\n",
      "Prime: 643\n",
      "Prime: 647\n",
      "Prime: 653\n",
      "Prime: 659\n",
      "Prime: 661\n",
      "Prime: 673\n",
      "Prime: 677\n",
      "Prime: 683\n",
      "Prime: 691\n",
      "Prime: 701\n",
      "Prime: 709\n",
      "Prime: 719\n",
      "Prime: 727\n",
      "Prime: 733\n",
      "Prime: 739\n",
      "Prime: 743\n",
      "Prime: 751\n",
      "Prime: 757\n",
      "Prime: 761\n",
      "Prime: 769\n",
      "Prime: 773\n",
      "Prime: 787\n",
      "Prime: 797\n"
     ]
    }
   ],
   "source": [
    "#question 7\n",
    "# (ii)\n",
    "for num in range(600, 801):\n",
    "    if num > 1:\n",
    "        for i in range(2, int(num**0.5) + 1):\n",
    "            if num % i == 0:\n",
    "                break\n",
    "        else:\n",
    "            print(\"Prime:\",num)"
   ]
  },
  {
   "cell_type": "code",
   "execution_count": 109,
   "metadata": {},
   "outputs": [
    {
     "name": "stdout",
     "output_type": "stream",
     "text": [
      "126\n",
      "189\n",
      "252\n",
      "315\n",
      "378\n",
      "441\n",
      "504\n",
      "567\n",
      "630\n",
      "693\n",
      "756\n",
      "819\n",
      "882\n",
      "945\n"
     ]
    }
   ],
   "source": [
    "#question 7\n",
    "# (iii)\n",
    "for num in range(100, 1001):\n",
    "    if num % 7 == 0 and num % 9 == 0:\n",
    "        print(num)"
   ]
  },
  {
   "cell_type": "code",
   "execution_count": 110,
   "metadata": {},
   "outputs": [
    {
     "name": "stdout",
     "output_type": "stream",
     "text": [
      "The examination will start from: 11/12/2014\n"
     ]
    }
   ],
   "source": [
    "#question 8\n",
    "exam_st_date = (11, 12, 2014)\n",
    "print(f\"The examination will start from: {exam_st_date[0]}/{exam_st_date[1]}/{exam_st_date[2]}\")\n"
   ]
  },
  {
   "cell_type": "code",
   "execution_count": 111,
   "metadata": {},
   "outputs": [
    {
     "name": "stdout",
     "output_type": "stream",
     "text": [
      "10\n",
      "20\n",
      "55\n"
     ]
    }
   ],
   "source": [
    "#question 9\n",
    "numbers = [10, 20, 33, 46, 55]\n",
    "for number in numbers:\n",
    "    if number % 5 == 0:\n",
    "        print(number)"
   ]
  },
  {
   "cell_type": "code",
   "execution_count": 112,
   "metadata": {},
   "outputs": [
    {
     "name": "stdout",
     "output_type": "stream",
     "text": [
      "42 is even.\n"
     ]
    }
   ],
   "source": [
    "#question 10\n",
    "number = 42\n",
    "is_even = (number % 2 == 0)\n",
    "if is_even:\n",
    "    print(f\"{number} is even.\")\n",
    "else:\n",
    "    print(f\"{number} is odd.\")\n"
   ]
  },
  {
   "cell_type": "code",
   "execution_count": 113,
   "metadata": {},
   "outputs": [
    {
     "name": "stdout",
     "output_type": "stream",
     "text": [
      "The substring 'Emma' appears 2 times in the given string.\n"
     ]
    }
   ],
   "source": [
    "#question 11\n",
    "string = \"Emma is a good developer. Emma is also a writer.\"\n",
    "substring = \"Emma\"\n",
    "count = string.count(substring)\n",
    "print(f\"The substring '{substring}' appears {count} times in the given string.\")\n"
   ]
  },
  {
   "cell_type": "code",
   "execution_count": 115,
   "metadata": {},
   "outputs": [
    {
     "name": "stdout",
     "output_type": "stream",
     "text": [
      "New list: [25, 35, 40, 60, 90]\n"
     ]
    }
   ],
   "source": [
    "#question 12\n",
    "list1 = [10, 20, 25, 30, 35]\n",
    "list2 = [40, 45, 60, 75, 90]\n",
    "new_list = []\n",
    "\n",
    "for num in list1:\n",
    "    if num % 2 != 0:\n",
    "        new_list.append(num)\n",
    "\n",
    "for num in list2:\n",
    "    if num % 2 == 0:\n",
    "        new_list.append(num)\n",
    "\n",
    "print(\"New list:\", new_list)"
   ]
  }
 ],
 "metadata": {
  "kernelspec": {
   "display_name": "Python 3",
   "language": "python",
   "name": "python3"
  },
  "language_info": {
   "codemirror_mode": {
    "name": "ipython",
    "version": 3
   },
   "file_extension": ".py",
   "mimetype": "text/x-python",
   "name": "python",
   "nbconvert_exporter": "python",
   "pygments_lexer": "ipython3",
   "version": "3.11.9"
  }
 },
 "nbformat": 4,
 "nbformat_minor": 2
}
