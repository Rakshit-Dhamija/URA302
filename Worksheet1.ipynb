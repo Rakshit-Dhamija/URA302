{
 "cells": [
  {
   "cell_type": "code",
   "execution_count": 4,
   "metadata": {},
   "outputs": [
    {
     "name": "stdout",
     "output_type": "stream",
     "text": [
      "Twinkle, twinkle, little star,\n",
      "How I wonder what you are! \n",
      "Up above the world so high, \n",
      "Like a diamond in the sky. \n",
      "Twinkle, twinkle, little star, \n",
      "How I wonder what you are.\n"
     ]
    }
   ],
   "source": [
    "# question 1\n",
    "a=\"Twinkle, twinkle, little star,\\nHow I wonder what you are! \\nUp above the world so high, \\nLike a diamond in the sky. \\nTwinkle, twinkle, little star, \\nHow I wonder what you are.\"\n",
    "print(a)"
   ]
  },
  {
   "cell_type": "code",
   "execution_count": 12,
   "metadata": {},
   "outputs": [
    {
     "name": "stdout",
     "output_type": "stream",
     "text": [
      "Dhamija   Rakshit\n"
     ]
    }
   ],
   "source": [
    "a=input(\"Enter your First name:\")\n",
    "b=input(\"Enter your Last name:\")\n",
    "print(b,\" \",a)"
   ]
  },
  {
   "cell_type": "code",
   "execution_count": 11,
   "metadata": {},
   "outputs": [
    {
     "name": "stdout",
     "output_type": "stream",
     "text": [
      "Area: 3.14\n"
     ]
    }
   ],
   "source": [
    "r=int(input(\"Enter radius:\"))\n",
    "print(\"Area:\",3.14*r*r)"
   ]
  },
  {
   "cell_type": "code",
   "execution_count": 13,
   "metadata": {},
   "outputs": [
    {
     "name": "stdout",
     "output_type": "stream",
     "text": [
      "First: Red \tLast: Black\n"
     ]
    }
   ],
   "source": [
    "a=['Red','Green','White','Black']\n",
    "print(\"First:\",a[0],\"\\tLast:\",a[-1])"
   ]
  },
  {
   "cell_type": "code",
   "execution_count": 37,
   "metadata": {},
   "outputs": [
    {
     "name": "stdout",
     "output_type": "stream",
     "text": [
      "4\n",
      "44\n",
      "444\n",
      "4444\n",
      "4936\n"
     ]
    }
   ],
   "source": [
    "a=int(input(\"Enter the number:\"))\n",
    "sum=0\n",
    "b=str(a)\n",
    "for i in range(a):\n",
    "    c=int(b)\n",
    "    sum=sum+c\n",
    "    b=b+str(a)\n",
    "    print(c)\n",
    "print(sum)"
   ]
  }
 ],
 "metadata": {
  "kernelspec": {
   "display_name": "Python 3",
   "language": "python",
   "name": "python3"
  },
  "language_info": {
   "codemirror_mode": {
    "name": "ipython",
    "version": 3
   },
   "file_extension": ".py",
   "mimetype": "text/x-python",
   "name": "python",
   "nbconvert_exporter": "python",
   "pygments_lexer": "ipython3",
   "version": "3.11.9"
  }
 },
 "nbformat": 4,
 "nbformat_minor": 2
}
