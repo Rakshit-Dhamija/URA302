{
 "cells": [
  {
   "cell_type": "code",
   "execution_count": 4,
   "metadata": {},
   "outputs": [
    {
     "name": "stdout",
     "output_type": "stream",
     "text": [
      "Twinkle, twinkle, little star,\n",
      "How I wonder what you are! \n",
      "Up above the world so high, \n",
      "Like a diamond in the sky. \n",
      "Twinkle, twinkle, little star, \n",
      "How I wonder what you are.\n"
     ]
    }
   ],
   "source": [
    "# question 1\n",
    "a=\"Twinkle, twinkle, little star,\\nHow I wonder what you are! \\nUp above the world so high, \\nLike a diamond in the sky. \\nTwinkle, twinkle, little star, \\nHow I wonder what you are.\"\n",
    "print(a)"
   ]
  },
  {
   "cell_type": "code",
   "execution_count": 12,
   "metadata": {},
   "outputs": [
    {
     "name": "stdout",
     "output_type": "stream",
     "text": [
      "Dhamija   Rakshit\n"
     ]
    }
   ],
   "source": [
    "# question 2\n",
    "a=input(\"Enter your First name:\")\n",
    "b=input(\"Enter your Last name:\")\n",
    "print(b,\" \",a)"
   ]
  },
  {
   "cell_type": "code",
   "execution_count": 11,
   "metadata": {},
   "outputs": [
    {
     "name": "stdout",
     "output_type": "stream",
     "text": [
      "Area: 3.14\n"
     ]
    }
   ],
   "source": [
    "# question 3\n",
    "r=int(input(\"Enter radius:\"))\n",
    "print(\"Area:\",3.14*r*r)"
   ]
  },
  {
   "cell_type": "code",
   "execution_count": 13,
   "metadata": {},
   "outputs": [
    {
     "name": "stdout",
     "output_type": "stream",
     "text": [
      "First: Red \tLast: Black\n"
     ]
    }
   ],
   "source": [
    "# question 4\n",
    "a=['Red','Green','White','Black']\n",
    "print(\"First:\",a[0],\"\\tLast:\",a[-1])"
   ]
  },
  {
   "cell_type": "code",
   "execution_count": 2,
   "metadata": {},
   "outputs": [
    {
     "name": "stdout",
     "output_type": "stream",
     "text": [
      "740736\n"
     ]
    }
   ],
   "source": [
    "# question 5\n",
    "a=int(input(\"Enter the number:\"))\n",
    "sum=0\n",
    "b=str(a)\n",
    "for i in range(a):\n",
    "    c=int(b)\n",
    "    sum=sum+c\n",
    "    b=b+str(a)\n",
    "    # print(c)\n",
    "print(sum)"
   ]
  },
  {
   "cell_type": "code",
   "execution_count": 6,
   "metadata": {},
   "outputs": [
    {
     "name": "stdout",
     "output_type": "stream",
     "text": [
      "('10', '12')\n",
      "<class 'tuple'>\n"
     ]
    }
   ],
   "source": [
    "# question 6\n",
    "a=input(\"Enter comma seperated values:\")\n",
    "b=tuple(a.split(','))\n",
    "print(b)\n",
    "print(type(b))"
   ]
  },
  {
   "cell_type": "code",
   "execution_count": 7,
   "metadata": {},
   "outputs": [
    {
     "name": "stdout",
     "output_type": "stream",
     "text": [
      "Degree Fahrenheit: 96.8\n"
     ]
    }
   ],
   "source": [
    "# question 7\n",
    "a=float(input(\"Enter temperature in celcius:\"))\n",
    "b=a*(9/5)+32\n",
    "print(\"Degree Fahrenheit:\",b)"
   ]
  },
  {
   "cell_type": "code",
   "execution_count": 8,
   "metadata": {},
   "outputs": [
    {
     "name": "stdout",
     "output_type": "stream",
     "text": [
      "After swapping and incrementing:\n",
      "Number 1: 21\n",
      "Number 2: 10\n"
     ]
    }
   ],
   "source": [
    "# question 8\n",
    "a = int(input(\"Enter the first number: \"))\n",
    "b = int(input(\"Enter the second number: \"))\n",
    "# Swapping the numbers without a temporary variable\n",
    "a = a + b\n",
    "b = a - b\n",
    "a = a - b\n",
    "# Incrementing num1 by 1\n",
    "a += 1\n",
    "print(\"After swapping and incrementing:\")\n",
    "print(\"Number 1:\", a)\n",
    "print(\"Number 2:\", b)"
   ]
  },
  {
   "cell_type": "code",
   "execution_count": 11,
   "metadata": {},
   "outputs": [
    {
     "name": "stdout",
     "output_type": "stream",
     "text": [
      "Input: 32\n",
      "Even\n"
     ]
    }
   ],
   "source": [
    "# question 9\n",
    "a = int(input(\"Enter the Number:\"))\n",
    "print(\"Input:\",a)\n",
    "if a%2==0:\n",
    "    print('Even')\n",
    "elif a%2==1:\n",
    "    print('Odd')\n",
    "else:\n",
    "    print(\"Wrong Input\")"
   ]
  },
  {
   "cell_type": "code",
   "execution_count": 14,
   "metadata": {},
   "outputs": [
    {
     "name": "stdout",
     "output_type": "stream",
     "text": [
      "Input: 2024\n",
      "Leap Year\n"
     ]
    }
   ],
   "source": [
    "# question 10\n",
    "a = int(input(\"Enter the Year:\"))\n",
    "print(\"Input:\",a)\n",
    "if a%4==0 and a%100!=0:\n",
    "    print(\"Leap Year\")\n",
    "else:\n",
    "    print(\"Not a Leap Year\")"
   ]
  },
  {
   "cell_type": "code",
   "execution_count": 22,
   "metadata": {},
   "outputs": [
    {
     "name": "stdout",
     "output_type": "stream",
     "text": [
      "Input X1: 0\n",
      "Input Y1: 0\n",
      "Input X2: 2\n",
      "Input Y2: 2\n",
      "Distance: 2.8284271247461903\n"
     ]
    }
   ],
   "source": [
    "# question 11\n",
    "import math as m\n",
    "a = int(input(\"Enter the X1:\"))\n",
    "print(\"Input X1:\",a)\n",
    "b = int(input(\"Enter the Y1:\"))\n",
    "print(\"Input Y1:\",b)\n",
    "c = int(input(\"Enter the X2:\"))\n",
    "print(\"Input X2:\",c)\n",
    "d = int(input(\"Enter the Y2:\"))\n",
    "print(\"Input Y2:\",d)\n",
    "e=m.sqrt(m.pow(c-a,2)+m.pow(d-b,2))\n",
    "print(\"Distance:\",e)"
   ]
  },
  {
   "cell_type": "code",
   "execution_count": 28,
   "metadata": {},
   "outputs": [
    {
     "name": "stdout",
     "output_type": "stream",
     "text": [
      "Input angle 1: 60\n",
      "Input angle 2: 60\n",
      "Input angle 3: 60\n",
      "Triangle possible\n"
     ]
    }
   ],
   "source": [
    "# question 12\n",
    "a = int(input(\"Enter the First angle:\"))\n",
    "print(\"Input angle 1:\",a)\n",
    "b = int(input(\"Enter the Second angle:\"))\n",
    "print(\"Input angle 2:\",b)\n",
    "c = int(input(\"Enter the Third angle:\"))\n",
    "print(\"Input angle 3:\",c)\n",
    "if a+b+c==180:\n",
    "    print('Triangle possible')\n",
    "else:print('Triangle not possible')"
   ]
  },
  {
   "cell_type": "code",
   "execution_count": 31,
   "metadata": {},
   "outputs": [
    {
     "name": "stdout",
     "output_type": "stream",
     "text": [
      "Input Principle: 1000.0\n",
      "Input Principle: 15.0\n",
      "Input Principle: 2.0\n",
      "Input Number of comppounds: 2.0\n",
      "Amount: 1335.469140625\n"
     ]
    }
   ],
   "source": [
    "# question 13\n",
    "p = float(input(\"Enter the Principle:\"))\n",
    "print(\"Input Principle:\",p)\n",
    "r = float(input(\"Enter the Rate:\"))\n",
    "print(\"Input Principle:\",r)\n",
    "t = float(input(\"Enter the Time:\"))\n",
    "print(\"Input Principle:\",t)\n",
    "n = float(input(\"Enter the Number of compounds per year:\"))\n",
    "print(\"Input Number of comppounds:\",n)\n",
    "a=p*pow((1+(r/(100*n))),n*t)\n",
    "print('Amount:',a)"
   ]
  },
  {
   "cell_type": "code",
   "execution_count": 35,
   "metadata": {},
   "outputs": [
    {
     "name": "stdout",
     "output_type": "stream",
     "text": [
      "Input Number: 6\n",
      "6 is not a prime number.\n"
     ]
    }
   ],
   "source": [
    "# question 14\n",
    "p = int(input(\"Enter the Number:\"))\n",
    "print(\"Input Number:\",p)\n",
    "is_prime = True\n",
    "if p > 1:\n",
    "    for i in range(2, p):\n",
    "        if p % i == 0:\n",
    "            is_prime = False\n",
    "            break\n",
    "else:\n",
    "    is_prime = False\n",
    "\n",
    "print(f\"{p} is a prime number.\" if is_prime else f\"{p} is not a prime number.\")\n"
   ]
  },
  {
   "cell_type": "code",
   "execution_count": 40,
   "metadata": {},
   "outputs": [
    {
     "name": "stdout",
     "output_type": "stream",
     "text": [
      "Sum: 91\n"
     ]
    }
   ],
   "source": [
    "# question 15\n",
    "n = int(input(\"Enter N:\"))\n",
    "sum=0 \n",
    "for i in range (1,n+1):\n",
    "    sum=sum+i**2\n",
    "    # print(i)\n",
    "print(\"Sum:\",sum)"
   ]
  }
 ],
 "metadata": {
  "kernelspec": {
   "display_name": "Python 3",
   "language": "python",
   "name": "python3"
  },
  "language_info": {
   "codemirror_mode": {
    "name": "ipython",
    "version": 3
   },
   "file_extension": ".py",
   "mimetype": "text/x-python",
   "name": "python",
   "nbconvert_exporter": "python",
   "pygments_lexer": "ipython3",
   "version": "3.11.9"
  }
 },
 "nbformat": 4,
 "nbformat_minor": 2
}
