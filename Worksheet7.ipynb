{
 "cells": [
  {
   "cell_type": "code",
   "execution_count": 1,
   "metadata": {},
   "outputs": [
    {
     "name": "stdout",
     "output_type": "stream",
     "text": [
      "2.2.2\n"
     ]
    }
   ],
   "source": [
    "import pandas as pd\n",
    "# q1.1\n",
    "# Check the version of pandas\n",
    "print(pd.__version__)"
   ]
  },
  {
   "cell_type": "code",
   "execution_count": 2,
   "metadata": {},
   "outputs": [
    {
     "name": "stdout",
     "output_type": "stream",
     "text": [
      "      Name  Age         City\n",
      "0    Alice   25     New York\n",
      "1      Bob   30  Los Angeles\n",
      "2  Charlie   35      Chicago\n"
     ]
    }
   ],
   "source": [
    "# q1.2\n",
    "# Create a DataFrame\n",
    "data = {\n",
    "    'Name': ['Alice', 'Bob', 'Charlie'],\n",
    "    'Age': [25, 30, 35],\n",
    "    'City': ['New York', 'Los Angeles', 'Chicago']\n",
    "}\n",
    "\n",
    "df = pd.DataFrame(data)\n",
    "# Print the DataFrame\n",
    "print(df)"
   ]
  },
  {
   "cell_type": "code",
   "execution_count": 3,
   "metadata": {},
   "outputs": [
    {
     "name": "stdout",
     "output_type": "stream",
     "text": [
      "0    100\n",
      "1    200\n",
      "2    300\n",
      "3    400\n",
      "4    500\n",
      "dtype: int64\n"
     ]
    }
   ],
   "source": [
    "# q2.1\n",
    "# Create a Series\n",
    "S1 = pd.Series([100, 200, 300, 400, 500])\n",
    "# Print the Series\n",
    "print(S1)"
   ]
  },
  {
   "cell_type": "code",
   "execution_count": 4,
   "metadata": {},
   "outputs": [
    {
     "name": "stdout",
     "output_type": "stream",
     "text": [
      "200\n",
      "400\n"
     ]
    }
   ],
   "source": [
    "# q2.2\n",
    "# Access the second and fourth elements\n",
    "print(S1[1])  # Second element\n",
    "print(S1[3])  # Fourth element"
   ]
  },
  {
   "cell_type": "code",
   "execution_count": 5,
   "metadata": {},
   "outputs": [
    {
     "name": "stdout",
     "output_type": "stream",
     "text": [
      "0    110\n",
      "1    220\n",
      "2    330\n",
      "3    440\n",
      "4    550\n",
      "dtype: int64\n"
     ]
    }
   ],
   "source": [
    "# q2.3\n",
    "# Create a second Series\n",
    "S2 = pd.Series([10, 20, 30, 40, 50])\n",
    "# Perform element-wise addition\n",
    "result = S1 + S2\n",
    "# Print the result\n",
    "print(result)"
   ]
  },
  {
   "cell_type": "code",
   "execution_count": 6,
   "metadata": {},
   "outputs": [
    {
     "name": "stdout",
     "output_type": "stream",
     "text": [
      "      Name         City\n",
      "0    Alice     New York\n",
      "1      Bob  Los Angeles\n",
      "2  Charlie      Chicago\n"
     ]
    }
   ],
   "source": [
    "# q3.1\n",
    "# Print only the 'Name' and 'City' columns\n",
    "print(df[['Name', 'City']])"
   ]
  },
  {
   "cell_type": "code",
   "execution_count": 8,
   "metadata": {},
   "outputs": [
    {
     "name": "stdout",
     "output_type": "stream",
     "text": [
      "      Name  Age         City  Salary\n",
      "0    Alice   25     New York   50000\n",
      "1      Bob   30  Los Angeles   60000\n",
      "2  Charlie   35      Chicago   70000\n"
     ]
    }
   ],
   "source": [
    "# q3.2\n",
    "# Add a new column 'Salary'\n",
    "df['Salary'] = [50000, 60000, 70000]\n",
    "# Print the updated DataFrame\n",
    "print(df)"
   ]
  },
  {
   "cell_type": "code",
   "execution_count": 9,
   "metadata": {},
   "outputs": [
    {
     "name": "stdout",
     "output_type": "stream",
     "text": [
      "Average Age: 30.0\n",
      "Total Salary: 180000\n"
     ]
    }
   ],
   "source": [
    "# q3.3\n",
    "# Calculate the average Age\n",
    "average_age = df['Age'].mean()\n",
    "print('Average Age:', average_age)\n",
    "\n",
    "# Calculate the total sum of Salary\n",
    "total_salary = df['Salary'].sum()\n",
    "print('Total Salary:', total_salary)"
   ]
  },
  {
   "cell_type": "code",
   "execution_count": 10,
   "metadata": {},
   "outputs": [
    {
     "name": "stdout",
     "output_type": "stream",
     "text": [
      "      Name  Age         City  Salary\n",
      "1      Bob   30  Los Angeles   60000\n",
      "2  Charlie   35      Chicago   70000\n"
     ]
    }
   ],
   "source": [
    "# q4.1\n",
    "# Assuming df is the DataFrame from question 3.2\n",
    "filtered_df = df[df['Age'] > 28]\n",
    "print(filtered_df)"
   ]
  },
  {
   "cell_type": "code",
   "execution_count": 12,
   "metadata": {},
   "outputs": [
    {
     "name": "stdout",
     "output_type": "stream",
     "text": [
      "         Age         City  Salary\n",
      "Name                             \n",
      "Alice     25     New York   50000\n",
      "Bob       30  Los Angeles   60000\n",
      "Charlie   35      Chicago   70000\n",
      "\n",
      "       Name  Age         City  Salary\n",
      "0    Alice   25     New York   50000\n",
      "1      Bob   30  Los Angeles   60000\n",
      "2  Charlie   35      Chicago   70000\n"
     ]
    }
   ],
   "source": [
    "# q4.2\n",
    "# Set the 'Name' column as the index\n",
    "df_indexed = df.set_index('Name')\n",
    "print(df_indexed)\n",
    "\n",
    "# Reset the index to the default\n",
    "df_reset = df_indexed.reset_index()\n",
    "print(\"\\n\",df_reset)"
   ]
  },
  {
   "cell_type": "code",
   "execution_count": 85,
   "metadata": {},
   "outputs": [
    {
     "name": "stdout",
     "output_type": "stream",
     "text": [
      "    Name Department  Salary\n",
      "0   John      Sales   50000\n",
      "1   Jane  Marketing   60000\n",
      "2  Emily         HR   55000\n"
     ]
    }
   ],
   "source": [
    "# q5.1\n",
    "# Read the CSV file into a DataFrame\n",
    "df1=pd.read_csv('employees.csv')\n",
    "print(df)"
   ]
  },
  {
   "cell_type": "code",
   "execution_count": 88,
   "metadata": {},
   "outputs": [
    {
     "name": "stdout",
     "output_type": "stream",
     "text": [
      "   Name Department  Salary\n",
      "1  Jane  Marketing   60000\n",
      "   Name Department\n",
      "1  Jane  Marketing\n"
     ]
    }
   ],
   "source": [
    "# q5.2\n",
    "# Filter the rows where the Salary is greater than 55000\n",
    "filtered_df=df1[df1['Salary']>55000]\n",
    "print(filtered_df)\n",
    "\n",
    "# Print only the 'Name' and 'Department' columns for the filtered rows\n",
    "print(filtered_df[[\"Name\",\"Department\"]])"
   ]
  },
  {
   "cell_type": "code",
   "execution_count": 90,
   "metadata": {},
   "outputs": [
    {
     "name": "stdout",
     "output_type": "stream",
     "text": [
      "Department\n",
      "HR           55000.0\n",
      "Marketing    60000.0\n",
      "Sales        50000.0\n",
      "Name: Salary, dtype: float64\n"
     ]
    }
   ],
   "source": [
    "# q6.1\n",
    "# Group by the 'Department' column and calculate the average Salary\n",
    "grouped_df = df1.groupby('Department')['Salary'].mean()\n",
    "print(grouped_df)"
   ]
  },
  {
   "cell_type": "code",
   "execution_count": 91,
   "metadata": {},
   "outputs": [
    {
     "name": "stdout",
     "output_type": "stream",
     "text": [
      "              min    max\n",
      "Department              \n",
      "HR          55000  55000\n",
      "Marketing   60000  60000\n",
      "Sales       50000  50000\n"
     ]
    }
   ],
   "source": [
    "# q6.2\n",
    "# Find the minimum and maximum Salary for each Department\n",
    "agg_df = df1.groupby('Department')['Salary'].agg(['min', 'max'])\n",
    "print(agg_df)"
   ]
  },
  {
   "cell_type": "code",
   "execution_count": 92,
   "metadata": {},
   "outputs": [
    {
     "name": "stdout",
     "output_type": "stream",
     "text": [
      "    Name Department  Experience (Years)\n",
      "0   John      Sales                   5\n",
      "1   Jane  Marketing                   7\n",
      "2  Emily         HR                   3\n"
     ]
    }
   ],
   "source": [
    "# q7.1\n",
    "# Given DataFrames\n",
    "df1 = pd.DataFrame({\n",
    "    'Name': ['John', 'Jane', 'Emily'],\n",
    "    'Department': ['Sales', 'Marketing', 'HR']\n",
    "})\n",
    "\n",
    "df2 = pd.DataFrame({\n",
    "    'Name': ['John', 'Jane', 'Emily'],\n",
    "    'Experience (Years)': [5, 7, 3]\n",
    "})\n",
    "\n",
    "# Merge the DataFrames on the 'Name' column\n",
    "merged_df = pd.merge(df1, df2, on='Name')\n",
    "print(merged_df)"
   ]
  },
  {
   "cell_type": "code",
   "execution_count": 93,
   "metadata": {},
   "outputs": [
    {
     "name": "stdout",
     "output_type": "stream",
     "text": [
      "    Name Department  Experience (Years)\n",
      "1   Jane  Marketing                   7\n",
      "0   John      Sales                   5\n",
      "2  Emily         HR                   3\n"
     ]
    }
   ],
   "source": [
    "# q8.1\n",
    "# Sort the DataFrame based on the 'Experience (Years)' column in descending order\n",
    "sorted_df = merged_df.sort_values(by='Experience (Years)', ascending=False)\n",
    "print(sorted_df)"
   ]
  }
 ],
 "metadata": {
  "kernelspec": {
   "display_name": "Python 3",
   "language": "python",
   "name": "python3"
  },
  "language_info": {
   "codemirror_mode": {
    "name": "ipython",
    "version": 3
   },
   "file_extension": ".py",
   "mimetype": "text/x-python",
   "name": "python",
   "nbconvert_exporter": "python",
   "pygments_lexer": "ipython3",
   "version": "3.11.9"
  }
 },
 "nbformat": 4,
 "nbformat_minor": 2
}
