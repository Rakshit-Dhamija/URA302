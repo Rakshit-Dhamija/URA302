{
 "cells": [
  {
   "cell_type": "code",
   "execution_count": 1,
   "metadata": {},
   "outputs": [
    {
     "name": "stdout",
     "output_type": "stream",
     "text": [
      "16\n"
     ]
    }
   ],
   "source": [
    "#question 1\n",
    "def difference_from_17(n):\n",
    "    if n > 17:\n",
    "        return 2 * abs(n - 17)\n",
    "    else:\n",
    "        return 17 - n\n",
    "\n",
    "# Example usage\n",
    "number = 25\n",
    "print(difference_from_17(number))\n"
   ]
  },
  {
   "cell_type": "code",
   "execution_count": 4,
   "metadata": {},
   "outputs": [
    {
     "name": "stdout",
     "output_type": "stream",
     "text": [
      "True\n"
     ]
    }
   ],
   "source": [
    "#question 2\n",
    "def is_within_range(n):\n",
    "    return (100 < n < 1000) or (n == 2000)\n",
    "\n",
    "# Example usage\n",
    "number = 150\n",
    "print(is_within_range(number))"
   ]
  },
  {
   "cell_type": "code",
   "execution_count": 5,
   "metadata": {},
   "outputs": [
    {
     "name": "stdout",
     "output_type": "stream",
     "text": [
      "!dlroW ,olleH\n"
     ]
    }
   ],
   "source": [
    "#question3\n",
    "def reverse_string(s):\n",
    "    return s[::-1]\n",
    "\n",
    "# Example usage\n",
    "string = \"Hello, World!\"\n",
    "print(reverse_string(string))\n"
   ]
  },
  {
   "cell_type": "code",
   "execution_count": 6,
   "metadata": {},
   "outputs": [
    {
     "name": "stdout",
     "output_type": "stream",
     "text": [
      "Upper case letters: 2, Lower case letters: 8\n"
     ]
    }
   ],
   "source": [
    "#question 4\n",
    "def count_upper_lower(s):\n",
    "    upper_count = 0\n",
    "    lower_count = 0\n",
    "    for char in s:\n",
    "        if char.isupper():\n",
    "            upper_count += 1\n",
    "        elif char.islower():\n",
    "            lower_count += 1\n",
    "    return upper_count, lower_count\n",
    "\n",
    "# Example usage\n",
    "string = \"Hello, World!\"\n",
    "upper, lower = count_upper_lower(string)\n",
    "print(f\"Upper case letters: {upper}, Lower case letters: {lower}\")\n"
   ]
  },
  {
   "cell_type": "code",
   "execution_count": 7,
   "metadata": {},
   "outputs": [
    {
     "name": "stdout",
     "output_type": "stream",
     "text": [
      "[1, 2, 3, 4, 5]\n"
     ]
    }
   ],
   "source": [
    "#question 5\n",
    "def distinct_elements(lst):\n",
    "    return list(set(lst))\n",
    "\n",
    "# Example usage\n",
    "original_list = [1, 2, 2, 3, 4, 4, 5]\n",
    "new_list = distinct_elements(original_list)\n",
    "print(new_list)"
   ]
  },
  {
   "cell_type": "code",
   "execution_count": 8,
   "metadata": {},
   "outputs": [
    {
     "name": "stdout",
     "output_type": "stream",
     "text": [
      "[2, 4, 6, 8]\n"
     ]
    }
   ],
   "source": [
    "#question 6\n",
    "def even_numbers(lst):\n",
    "    return [num for num in lst if num % 2 == 0]\n",
    "\n",
    "# Example usage\n",
    "sample_list = [1, 2, 3, 4, 5, 6, 7, 8, 9]\n",
    "print(even_numbers(sample_list))\n"
   ]
  },
  {
   "cell_type": "code",
   "execution_count": 1,
   "metadata": {},
   "outputs": [
    {
     "name": "stdout",
     "output_type": "stream",
     "text": [
      "Hello from the inner function!\n"
     ]
    }
   ],
   "source": [
    "#question 7\n",
    "def outer_function(text):\n",
    "    def inner_function():\n",
    "        print(text)\n",
    "    inner_function()\n",
    "\n",
    "# Example usage\n",
    "outer_function(\"Hello from the inner function!\")\n"
   ]
  },
  {
   "cell_type": "code",
   "execution_count": 3,
   "metadata": {},
   "outputs": [
    {
     "name": "stdout",
     "output_type": "stream",
     "text": [
      "Student ID: S122\n",
      "Student Name: Wilson Medina\n",
      "Class: VI\n",
      "<class 'function'>\n"
     ]
    }
   ],
   "source": [
    "#question 8\n",
    "def student(student_id, student_name, student_class):\n",
    "    return f\"Student ID: {student_id}\\nStudent Name: {student_name}\\nClass: {student_class}\"\n",
    "\n",
    "# Example usage\n",
    "print(student('S122', 'Wilson Medina', 'VI'))\n",
    "print(type(student))\n"
   ]
  }
 ],
 "metadata": {
  "kernelspec": {
   "display_name": "Python 3",
   "language": "python",
   "name": "python3"
  },
  "language_info": {
   "codemirror_mode": {
    "name": "ipython",
    "version": 3
   },
   "file_extension": ".py",
   "mimetype": "text/x-python",
   "name": "python",
   "nbconvert_exporter": "python",
   "pygments_lexer": "ipython3",
   "version": "3.11.9"
  }
 },
 "nbformat": 4,
 "nbformat_minor": 2
}
