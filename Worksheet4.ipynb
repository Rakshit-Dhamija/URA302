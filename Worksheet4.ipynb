{
 "cells": [
  {
   "cell_type": "code",
   "execution_count": 1,
   "metadata": {},
   "outputs": [
    {
     "name": "stdout",
     "output_type": "stream",
     "text": [
      "1D array from 5 to 25: [ 5  6  7  8  9 10 11 12 13 14 15 16 17 18 19 20 21 22 23 24 25]\n"
     ]
    }
   ],
   "source": [
    "#question 1.1\n",
    "import numpy as np\n",
    "array_1d = np.arange(5, 26)\n",
    "print(\"1D array from 5 to 25:\", array_1d)"
   ]
  },
  {
   "cell_type": "code",
   "execution_count": 2,
   "metadata": {},
   "outputs": [
    {
     "name": "stdout",
     "output_type": "stream",
     "text": [
      "2D array with random integers between 10 and 50:\n",
      " [[23 43 42 30]\n",
      " [14 20 48 28]\n",
      " [26 44 50 47]]\n"
     ]
    }
   ],
   "source": [
    "#question 1.2\n",
    "import numpy as np\n",
    "array_2d = np.random.randint(10, 51, size=(3, 4))\n",
    "print(\"2D array with random integers between 10 and 50:\\n\", array_2d)"
   ]
  },
  {
   "cell_type": "code",
   "execution_count": 5,
   "metadata": {},
   "outputs": [
    {
     "name": "stdout",
     "output_type": "stream",
     "text": [
      "1D array shape: (21,)\n",
      "1D array size: 21\n",
      "1D array data type: int64\n"
     ]
    }
   ],
   "source": [
    "#question 2.1\n",
    "import numpy as np\n",
    "array_1d = np.arange(5, 26)\n",
    "print(\"1D array shape:\", array_1d.shape)\n",
    "print(\"1D array size:\", array_1d.size)\n",
    "print(\"1D array data type:\", array_1d.dtype)"
   ]
  },
  {
   "cell_type": "code",
   "execution_count": 6,
   "metadata": {},
   "outputs": [
    {
     "name": "stdout",
     "output_type": "stream",
     "text": [
      "2D array shape: (3, 4)\n",
      "2D array size: 12\n",
      "2D array data type: int32\n"
     ]
    }
   ],
   "source": [
    "#question 2.2\n",
    "import numpy as np\n",
    "array_2d = np.random.randint(10, 51, size=(3, 4))\n",
    "print(\"2D array shape:\", array_2d.shape)\n",
    "print(\"2D array size:\", array_2d.size)\n",
    "print(\"2D array data type:\", array_2d.dtype)"
   ]
  },
  {
   "cell_type": "code",
   "execution_count": 9,
   "metadata": {},
   "outputs": [
    {
     "name": "stdout",
     "output_type": "stream",
     "text": [
      "Array1: [ 2  4  6  8 10]\n",
      "Array2: [1 3 5 7 9]\n",
      "Addition: [ 3  7 11 15 19]\n",
      "Subtraction: [1 1 1 1 1]\n",
      "Element-wise multiplication: [ 2 12 30 56 90]\n",
      "Element-wise division: [2.         1.33333333 1.2        1.14285714 1.11111111]\n"
     ]
    }
   ],
   "source": [
    "#question 3.1\n",
    "import numpy as np\n",
    "array1 = np.array([2, 4, 6, 8, 10])\n",
    "array2 = np.array([1, 3, 5, 7, 9])\n",
    "print(\"Array1:\", array1)\n",
    "print(\"Array2:\", array2)\n",
    "\n",
    "#question 3.2\n",
    "addition = array1 + array2\n",
    "print(\"Addition:\", addition)\n",
    "\n",
    "subtraction = array1 - array2\n",
    "print(\"Subtraction:\", subtraction)\n",
    "\n",
    "multiplication = array1 * array2\n",
    "print(\"Element-wise multiplication:\", multiplication)\n",
    "\n",
    "division = array1 / array2\n",
    "print(\"Element-wise division:\", division)\n"
   ]
  },
  {
   "cell_type": "code",
   "execution_count": 11,
   "metadata": {},
   "outputs": [
    {
     "name": "stdout",
     "output_type": "stream",
     "text": [
      "2D array:\n",
      " [[1 2 3]\n",
      " [4 5 6]\n",
      " [7 8 9]]\n",
      "Result of multiplying the 2D array by 5:\n",
      " [[ 5 10 15]\n",
      " [20 25 30]\n",
      " [35 40 45]]\n"
     ]
    }
   ],
   "source": [
    "#question 4.1\n",
    "import numpy as np\n",
    "array_2d = np.arange(1, 10).reshape(3, 3)\n",
    "print(\"2D array:\\n\", array_2d)\n",
    "\n",
    "#question 4.2\n",
    "result_array = array_2d * 5\n",
    "print(\"Result of multiplying the 2D array by 5:\\n\", result_array)"
   ]
  },
  {
   "cell_type": "code",
   "execution_count": 14,
   "metadata": {},
   "outputs": [
    {
     "name": "stdout",
     "output_type": "stream",
     "text": [
      "2D array:\n",
      " [[10 11 12 13]\n",
      " [14 15 16 17]\n",
      " [18 19 20 21]\n",
      " [22 23 24 25]]\n",
      "Second row: [14 15 16 17]\n",
      "Last column: [13 17 21 25]\n",
      "2D array after replacing the first row with zeros:\n",
      " [[ 0  0  0  0]\n",
      " [14 15 16 17]\n",
      " [18 19 20 21]\n",
      " [22 23 24 25]]\n"
     ]
    }
   ],
   "source": [
    "# question 5.1\n",
    "import numpy as np\n",
    "array_2d = np.arange(10, 26).reshape(4, 4)\n",
    "print(\"2D array:\\n\", array_2d)\n",
    "#question 5.2\n",
    "second_row = array_2d[1, :]\n",
    "print(\"Second row:\", second_row)\n",
    "last_column = array_2d[:, -1]\n",
    "print(\"Last column:\", last_column)\n",
    "#question 5.3\n",
    "array_2d[0, :] = 0\n",
    "print(\"2D array after replacing the first row with zeros:\\n\", array_2d)\n"
   ]
  },
  {
   "cell_type": "code",
   "execution_count": 15,
   "metadata": {},
   "outputs": [
    {
     "name": "stdout",
     "output_type": "stream",
     "text": [
      "1D array with random integers between 20 and 40: [26 33 34 33 29 28 23 29 23 40]\n",
      "Elements greater than 30: [33 34 33 40]\n"
     ]
    }
   ],
   "source": [
    "#question 6.1\n",
    "import numpy as np\n",
    "array_1d = np.random.randint(20, 41, size=10)\n",
    "print(\"1D array with random integers between 20 and 40:\", array_1d)\n",
    "\n",
    "#question 6.2\n",
    "greater_than_30 = array_1d[array_1d > 30]\n",
    "print(\"Elements greater than 30:\", greater_than_30)\n"
   ]
  },
  {
   "cell_type": "code",
   "execution_count": 16,
   "metadata": {},
   "outputs": [
    {
     "name": "stdout",
     "output_type": "stream",
     "text": [
      "1D array: [11 12 13 14 15 16 17 18 19 20 21 22]\n",
      "Reshaped 2D array:\n",
      " [[11 12 13 14]\n",
      " [15 16 17 18]\n",
      " [19 20 21 22]]\n"
     ]
    }
   ],
   "source": [
    "#question 7.1\n",
    "import numpy as np\n",
    "array_1d = np.arange(11, 23)\n",
    "print(\"1D array:\", array_1d)\n",
    "\n",
    "#question 7.2\n",
    "array_2d = array_1d.reshape(3, 4)\n",
    "print(\"Reshaped 2D array:\\n\", array_2d)\n"
   ]
  },
  {
   "cell_type": "code",
   "execution_count": 17,
   "metadata": {},
   "outputs": [
    {
     "name": "stdout",
     "output_type": "stream",
     "text": [
      "Matrix Multiplication (A * B):\n",
      " 190\n",
      "Transpose of Matrix A:\n",
      " [ 2  4  6  8 10]\n"
     ]
    }
   ],
   "source": [
    "#question 8.1\n",
    "matrix_A = np.array([2, 4, 6, 8, 10])\n",
    "matrix_B = np.array([1, 3, 5, 7, 9])\n",
    "matrix_multiplication = np.dot(matrix_A, matrix_B)\n",
    "print(\"Matrix Multiplication (A * B):\\n\", matrix_multiplication)\n",
    "\n",
    "#question 8.2\n",
    "transpose_A = np.transpose(matrix_A)\n",
    "print(\"Transpose of Matrix A:\\n\", transpose_A)\n"
   ]
  },
  {
   "cell_type": "code",
   "execution_count": 18,
   "metadata": {},
   "outputs": [
    {
     "name": "stdout",
     "output_type": "stream",
     "text": [
      "1D array with random integers between 10 and 60: [45 56 27 42 47 56 23 49 15 51 60 33 21 57 19]\n",
      "Mean: 40.06666666666667\n",
      "Median: 45.0\n",
      "Standard Deviation: 15.088479784995645\n"
     ]
    }
   ],
   "source": [
    "#question 9.1\n",
    "import numpy as np\n",
    "array_1d = np.random.randint(10, 61, size=15)\n",
    "print(\"1D array with random integers between 10 and 60:\", array_1d)\n",
    "#question 9.2\n",
    "mean_value = np.mean(array_1d)\n",
    "print(\"Mean:\", mean_value)\n",
    "\n",
    "median_value = np.median(array_1d)\n",
    "print(\"Median:\", median_value)\n",
    "\n",
    "std_deviation = np.std(array_1d)\n",
    "print(\"Standard Deviation:\", std_deviation)\n"
   ]
  }
 ],
 "metadata": {
  "kernelspec": {
   "display_name": "Python 3",
   "language": "python",
   "name": "python3"
  },
  "language_info": {
   "codemirror_mode": {
    "name": "ipython",
    "version": 3
   },
   "file_extension": ".py",
   "mimetype": "text/x-python",
   "name": "python",
   "nbconvert_exporter": "python",
   "pygments_lexer": "ipython3",
   "version": "3.11.9"
  }
 },
 "nbformat": 4,
 "nbformat_minor": 2
}
